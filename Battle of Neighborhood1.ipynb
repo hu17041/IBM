{
    "nbformat_minor": 1, 
    "cells": [
        {
            "source": "# BATTLE OF NEIGHBORHOOD", 
            "cell_type": "markdown", 
            "metadata": {
                "collapsed": true
            }
        }, 
        {
            "source": "## Chicago Restaurant Recommendation", 
            "cell_type": "markdown", 
            "metadata": {}
        }, 
        {
            "source": "## 1. Introduction", 
            "cell_type": "markdown", 
            "metadata": {}
        }, 
        {
            "source": "City of Chicago, is the most populous city in the U.S. state of Illinois and the third most populous city in the United States. Chicago is the principal city of the Chicago metropolitan area, often referred to as Chicagoland. At nearly 10 million people, the metropolitan area is the third most populous in the nation. Chicago is an international hub for finance, culture, commerce, industry, education, technology, telecommunications, and transportation. Chicago lays claim to many regional specialties that reflect the city's ethnic and working-class roots. Included among these are its nationally renowned deep-dish pizza. \n\nAs Chicago is known for its Pizza specialties, our customer is looking to open an upscale Pizza place in Chicago. The intention on this project is to collect and provide a data driven recommendation that can identify ideal location for opening an upscale Pizza place. Chicago Community areas are chosen for the ideal location. Core of Chicago is made of 77 communities, but we will focus on communities with larger population and higher per capita income as the restaurant is of a premium type. \n", 
            "cell_type": "markdown", 
            "metadata": {}
        }, 
        {
            "source": "## 2. Data Acquisition", 
            "cell_type": "markdown", 
            "metadata": {}
        }, 
        {
            "source": "This project will make use of the following data sources:\n\n#### Chicago Community Area Census data\nData will be retrieved from Chicago open dataset https://www.chicago.gov/city/en/depts/dcd/supp_info/community_area_2000and2010censuspopulationcomparisons.html\nThe original data source contains population data for each Chicago community areas for the years 2000 and 2010 and its percentage difference. For our project we will retrieve 2010 population data for each community areas.\n\n#### Chicago Community Per Capita Income data\nData will be retrieved from Chicago Data Portal\nhttps://data.cityofchicago.org/Health-Human-Services/Per-Capita-Income/r6ad-wvtk\nThis dataset contains a selection of six socioeconomic indicators of public health significance by Chicago community area, for the years 2007 \u2013 2011. Here we use the per capita income data for each community.\n\n#### Chicago Top Venue Recommendations from FourSquare API\nWe will be using the FourSquare API to explore Chicago community areas. The Foursquare explore function will be used to get the most common venue categories in each community, and then use this feature to group the communities into clusters. The following information are retrieved, Venue ID, Venue Name, Venue Coordinates and Venue Category.\n", 
            "cell_type": "markdown", 
            "metadata": {}
        }, 
        {
            "execution_count": null, 
            "cell_type": "code", 
            "metadata": {}, 
            "outputs": [], 
            "source": ""
        }
    ], 
    "metadata": {
        "kernelspec": {
            "display_name": "Python 3.6", 
            "name": "python3", 
            "language": "python"
        }, 
        "language_info": {
            "mimetype": "text/x-python", 
            "nbconvert_exporter": "python", 
            "version": "3.6.8", 
            "name": "python", 
            "file_extension": ".py", 
            "pygments_lexer": "ipython3", 
            "codemirror_mode": {
                "version": 3, 
                "name": "ipython"
            }
        }
    }, 
    "nbformat": 4
}